{
  "nbformat": 4,
  "nbformat_minor": 0,
  "metadata": {
    "colab": {
      "name": "Atividade_Pos_Graduacao.ipynb",
      "provenance": [],
      "collapsed_sections": [],
      "authorship_tag": "ABX9TyPNLaG2LtQEcZnbVK9otxTG",
      "include_colab_link": true
    },
    "kernelspec": {
      "name": "python3",
      "display_name": "Python 3"
    },
    "language_info": {
      "name": "python"
    }
  },
  "cells": [
    {
      "cell_type": "markdown",
      "metadata": {
        "id": "view-in-github",
        "colab_type": "text"
      },
      "source": [
        "<a href=\"https://colab.research.google.com/github/Edy940/Edy940/blob/main/Atividade_Pos_Graduacao.ipynb\" target=\"_parent\"><img src=\"https://colab.research.google.com/assets/colab-badge.svg\" alt=\"Open In Colab\"/></a>"
      ]
    },
    {
      "cell_type": "code",
      "metadata": {
        "id": "viZfv-nqJcRR"
      },
      "source": [
        "import pandas as pd\n",
        "import numpy as np\n",
        "from sklearn.naive_bayes import GaussianNB\n",
        "model = GaussianNB()\n",
        "\n",
        "\n"
      ],
      "execution_count": 151,
      "outputs": []
    },
    {
      "cell_type": "code",
      "metadata": {
        "colab": {
          "base_uri": "https://localhost:8080/",
          "height": 509
        },
        "id": "UPap86MvJgjG",
        "outputId": "67bce626-0852-48d9-ed50-69b0d7f90bc1"
      },
      "source": [
        "df = pd.read_csv('/content/testeRestaurante_.csv',encoding = \"ISO-8859-1\", sep=';')\n",
        "df.drop(['Dia'], axis='columns', inplace=True)\n",
        "df.head(15)\n",
        "\n"
      ],
      "execution_count": 74,
      "outputs": [
        {
          "output_type": "execute_result",
          "data": {
            "text/html": [
              "<div>\n",
              "<style scoped>\n",
              "    .dataframe tbody tr th:only-of-type {\n",
              "        vertical-align: middle;\n",
              "    }\n",
              "\n",
              "    .dataframe tbody tr th {\n",
              "        vertical-align: top;\n",
              "    }\n",
              "\n",
              "    .dataframe thead th {\n",
              "        text-align: right;\n",
              "    }\n",
              "</style>\n",
              "<table border=\"1\" class=\"dataframe\">\n",
              "  <thead>\n",
              "    <tr style=\"text-align: right;\">\n",
              "      <th></th>\n",
              "      <th>Previsao</th>\n",
              "      <th>Temperatura</th>\n",
              "      <th>Umidade</th>\n",
              "      <th>Vento</th>\n",
              "      <th>Vender</th>\n",
              "    </tr>\n",
              "  </thead>\n",
              "  <tbody>\n",
              "    <tr>\n",
              "      <th>0</th>\n",
              "      <td>chuva</td>\n",
              "      <td>frio</td>\n",
              "      <td>normal</td>\n",
              "      <td>sim</td>\n",
              "      <td>parmegiana</td>\n",
              "    </tr>\n",
              "    <tr>\n",
              "      <th>1</th>\n",
              "      <td>chuva</td>\n",
              "      <td>moderado</td>\n",
              "      <td>alta</td>\n",
              "      <td>sim</td>\n",
              "      <td>parmegiana</td>\n",
              "    </tr>\n",
              "    <tr>\n",
              "      <th>2</th>\n",
              "      <td>sol</td>\n",
              "      <td>quente</td>\n",
              "      <td>alta</td>\n",
              "      <td>não</td>\n",
              "      <td>parmegiana</td>\n",
              "    </tr>\n",
              "    <tr>\n",
              "      <th>3</th>\n",
              "      <td>sol</td>\n",
              "      <td>quente</td>\n",
              "      <td>alta</td>\n",
              "      <td>sim</td>\n",
              "      <td>parmegiana</td>\n",
              "    </tr>\n",
              "    <tr>\n",
              "      <th>4</th>\n",
              "      <td>sol</td>\n",
              "      <td>moderado</td>\n",
              "      <td>alta</td>\n",
              "      <td>não</td>\n",
              "      <td>parmegiana</td>\n",
              "    </tr>\n",
              "    <tr>\n",
              "      <th>5</th>\n",
              "      <td>nublado</td>\n",
              "      <td>frio</td>\n",
              "      <td>normal</td>\n",
              "      <td>sim</td>\n",
              "      <td>feijoada</td>\n",
              "    </tr>\n",
              "    <tr>\n",
              "      <th>6</th>\n",
              "      <td>nublado</td>\n",
              "      <td>quente</td>\n",
              "      <td>alta</td>\n",
              "      <td>não</td>\n",
              "      <td>feijoada</td>\n",
              "    </tr>\n",
              "    <tr>\n",
              "      <th>7</th>\n",
              "      <td>nublado</td>\n",
              "      <td>quente</td>\n",
              "      <td>normal</td>\n",
              "      <td>não</td>\n",
              "      <td>feijoada</td>\n",
              "    </tr>\n",
              "    <tr>\n",
              "      <th>8</th>\n",
              "      <td>nublado</td>\n",
              "      <td>moderado</td>\n",
              "      <td>alta</td>\n",
              "      <td>sim</td>\n",
              "      <td>feijoada</td>\n",
              "    </tr>\n",
              "    <tr>\n",
              "      <th>9</th>\n",
              "      <td>chuva</td>\n",
              "      <td>frio</td>\n",
              "      <td>normal</td>\n",
              "      <td>não</td>\n",
              "      <td>feijoada</td>\n",
              "    </tr>\n",
              "    <tr>\n",
              "      <th>10</th>\n",
              "      <td>chuva</td>\n",
              "      <td>moderado</td>\n",
              "      <td>alta</td>\n",
              "      <td>não</td>\n",
              "      <td>feijoada</td>\n",
              "    </tr>\n",
              "    <tr>\n",
              "      <th>11</th>\n",
              "      <td>chuva</td>\n",
              "      <td>moderado</td>\n",
              "      <td>normal</td>\n",
              "      <td>não</td>\n",
              "      <td>feijoada</td>\n",
              "    </tr>\n",
              "    <tr>\n",
              "      <th>12</th>\n",
              "      <td>sol</td>\n",
              "      <td>frio</td>\n",
              "      <td>normal</td>\n",
              "      <td>não</td>\n",
              "      <td>feijoada</td>\n",
              "    </tr>\n",
              "    <tr>\n",
              "      <th>13</th>\n",
              "      <td>sol</td>\n",
              "      <td>moderado</td>\n",
              "      <td>normal</td>\n",
              "      <td>sim</td>\n",
              "      <td>feijoada</td>\n",
              "    </tr>\n",
              "    <tr>\n",
              "      <th>14</th>\n",
              "      <td>sol</td>\n",
              "      <td>frio</td>\n",
              "      <td>normal</td>\n",
              "      <td>vento</td>\n",
              "      <td>NaN</td>\n",
              "    </tr>\n",
              "  </tbody>\n",
              "</table>\n",
              "</div>"
            ],
            "text/plain": [
              "   Previsao Temperatura Umidade  Vento      Vender\n",
              "0     chuva        frio  normal    sim  parmegiana\n",
              "1     chuva    moderado    alta    sim  parmegiana\n",
              "2       sol      quente    alta    não  parmegiana\n",
              "3       sol      quente    alta    sim  parmegiana\n",
              "4       sol    moderado    alta    não  parmegiana\n",
              "5   nublado        frio  normal    sim    feijoada\n",
              "6   nublado      quente    alta    não    feijoada\n",
              "7   nublado      quente  normal    não    feijoada\n",
              "8   nublado    moderado    alta    sim    feijoada\n",
              "9     chuva        frio  normal    não    feijoada\n",
              "10    chuva    moderado    alta    não    feijoada\n",
              "11    chuva    moderado  normal    não    feijoada\n",
              "12      sol        frio  normal    não    feijoada\n",
              "13      sol    moderado  normal    sim    feijoada\n",
              "14      sol        frio  normal  vento         NaN"
            ]
          },
          "metadata": {
            "tags": []
          },
          "execution_count": 74
        }
      ]
    },
    {
      "cell_type": "code",
      "metadata": {
        "colab": {
          "base_uri": "https://localhost:8080/",
          "height": 478
        },
        "id": "AmWxYvpk9fzb",
        "outputId": "bdabb4b6-f66d-45ec-87d9-874d95e120fa"
      },
      "source": [
        "df.dropna(axis = 0, how='any', inplace=True)\n",
        "df"
      ],
      "execution_count": 81,
      "outputs": [
        {
          "output_type": "execute_result",
          "data": {
            "text/html": [
              "<div>\n",
              "<style scoped>\n",
              "    .dataframe tbody tr th:only-of-type {\n",
              "        vertical-align: middle;\n",
              "    }\n",
              "\n",
              "    .dataframe tbody tr th {\n",
              "        vertical-align: top;\n",
              "    }\n",
              "\n",
              "    .dataframe thead th {\n",
              "        text-align: right;\n",
              "    }\n",
              "</style>\n",
              "<table border=\"1\" class=\"dataframe\">\n",
              "  <thead>\n",
              "    <tr style=\"text-align: right;\">\n",
              "      <th></th>\n",
              "      <th>Previsao</th>\n",
              "      <th>Temperatura</th>\n",
              "      <th>Umidade</th>\n",
              "      <th>Vento</th>\n",
              "      <th>Vender</th>\n",
              "    </tr>\n",
              "  </thead>\n",
              "  <tbody>\n",
              "    <tr>\n",
              "      <th>0</th>\n",
              "      <td>chuva</td>\n",
              "      <td>frio</td>\n",
              "      <td>normal</td>\n",
              "      <td>sim</td>\n",
              "      <td>parmegiana</td>\n",
              "    </tr>\n",
              "    <tr>\n",
              "      <th>1</th>\n",
              "      <td>chuva</td>\n",
              "      <td>moderado</td>\n",
              "      <td>alta</td>\n",
              "      <td>sim</td>\n",
              "      <td>parmegiana</td>\n",
              "    </tr>\n",
              "    <tr>\n",
              "      <th>2</th>\n",
              "      <td>sol</td>\n",
              "      <td>quente</td>\n",
              "      <td>alta</td>\n",
              "      <td>não</td>\n",
              "      <td>parmegiana</td>\n",
              "    </tr>\n",
              "    <tr>\n",
              "      <th>3</th>\n",
              "      <td>sol</td>\n",
              "      <td>quente</td>\n",
              "      <td>alta</td>\n",
              "      <td>sim</td>\n",
              "      <td>parmegiana</td>\n",
              "    </tr>\n",
              "    <tr>\n",
              "      <th>4</th>\n",
              "      <td>sol</td>\n",
              "      <td>moderado</td>\n",
              "      <td>alta</td>\n",
              "      <td>não</td>\n",
              "      <td>parmegiana</td>\n",
              "    </tr>\n",
              "    <tr>\n",
              "      <th>5</th>\n",
              "      <td>nublado</td>\n",
              "      <td>frio</td>\n",
              "      <td>normal</td>\n",
              "      <td>sim</td>\n",
              "      <td>feijoada</td>\n",
              "    </tr>\n",
              "    <tr>\n",
              "      <th>6</th>\n",
              "      <td>nublado</td>\n",
              "      <td>quente</td>\n",
              "      <td>alta</td>\n",
              "      <td>não</td>\n",
              "      <td>feijoada</td>\n",
              "    </tr>\n",
              "    <tr>\n",
              "      <th>7</th>\n",
              "      <td>nublado</td>\n",
              "      <td>quente</td>\n",
              "      <td>normal</td>\n",
              "      <td>não</td>\n",
              "      <td>feijoada</td>\n",
              "    </tr>\n",
              "    <tr>\n",
              "      <th>8</th>\n",
              "      <td>nublado</td>\n",
              "      <td>moderado</td>\n",
              "      <td>alta</td>\n",
              "      <td>sim</td>\n",
              "      <td>feijoada</td>\n",
              "    </tr>\n",
              "    <tr>\n",
              "      <th>9</th>\n",
              "      <td>chuva</td>\n",
              "      <td>frio</td>\n",
              "      <td>normal</td>\n",
              "      <td>não</td>\n",
              "      <td>feijoada</td>\n",
              "    </tr>\n",
              "    <tr>\n",
              "      <th>10</th>\n",
              "      <td>chuva</td>\n",
              "      <td>moderado</td>\n",
              "      <td>alta</td>\n",
              "      <td>não</td>\n",
              "      <td>feijoada</td>\n",
              "    </tr>\n",
              "    <tr>\n",
              "      <th>11</th>\n",
              "      <td>chuva</td>\n",
              "      <td>moderado</td>\n",
              "      <td>normal</td>\n",
              "      <td>não</td>\n",
              "      <td>feijoada</td>\n",
              "    </tr>\n",
              "    <tr>\n",
              "      <th>12</th>\n",
              "      <td>sol</td>\n",
              "      <td>frio</td>\n",
              "      <td>normal</td>\n",
              "      <td>não</td>\n",
              "      <td>feijoada</td>\n",
              "    </tr>\n",
              "    <tr>\n",
              "      <th>13</th>\n",
              "      <td>sol</td>\n",
              "      <td>moderado</td>\n",
              "      <td>normal</td>\n",
              "      <td>sim</td>\n",
              "      <td>feijoada</td>\n",
              "    </tr>\n",
              "  </tbody>\n",
              "</table>\n",
              "</div>"
            ],
            "text/plain": [
              "   Previsao Temperatura Umidade Vento      Vender\n",
              "0     chuva        frio  normal   sim  parmegiana\n",
              "1     chuva    moderado    alta   sim  parmegiana\n",
              "2       sol      quente    alta   não  parmegiana\n",
              "3       sol      quente    alta   sim  parmegiana\n",
              "4       sol    moderado    alta   não  parmegiana\n",
              "5   nublado        frio  normal   sim    feijoada\n",
              "6   nublado      quente    alta   não    feijoada\n",
              "7   nublado      quente  normal   não    feijoada\n",
              "8   nublado    moderado    alta   sim    feijoada\n",
              "9     chuva        frio  normal   não    feijoada\n",
              "10    chuva    moderado    alta   não    feijoada\n",
              "11    chuva    moderado  normal   não    feijoada\n",
              "12      sol        frio  normal   não    feijoada\n",
              "13      sol    moderado  normal   sim    feijoada"
            ]
          },
          "metadata": {
            "tags": []
          },
          "execution_count": 81
        }
      ]
    },
    {
      "cell_type": "code",
      "metadata": {
        "id": "djH2GDda-UEd"
      },
      "source": [
        "target=df.Vender\n",
        "inputs=df.drop('Vender', axis='columns')"
      ],
      "execution_count": 82,
      "outputs": []
    },
    {
      "cell_type": "code",
      "metadata": {
        "colab": {
          "base_uri": "https://localhost:8080/",
          "height": 141
        },
        "id": "zwwp2lhputlz",
        "outputId": "d63ed383-7d78-4217-d2e4-fa7bfa5c04f5"
      },
      "source": [
        "dummies = pd.get_dummies(inputs.Previsao)\n",
        "dummies.head(3)"
      ],
      "execution_count": 165,
      "outputs": [
        {
          "output_type": "execute_result",
          "data": {
            "text/html": [
              "<div>\n",
              "<style scoped>\n",
              "    .dataframe tbody tr th:only-of-type {\n",
              "        vertical-align: middle;\n",
              "    }\n",
              "\n",
              "    .dataframe tbody tr th {\n",
              "        vertical-align: top;\n",
              "    }\n",
              "\n",
              "    .dataframe thead th {\n",
              "        text-align: right;\n",
              "    }\n",
              "</style>\n",
              "<table border=\"1\" class=\"dataframe\">\n",
              "  <thead>\n",
              "    <tr style=\"text-align: right;\">\n",
              "      <th></th>\n",
              "      <th>chuva</th>\n",
              "      <th>nublado</th>\n",
              "      <th>sol</th>\n",
              "    </tr>\n",
              "  </thead>\n",
              "  <tbody>\n",
              "    <tr>\n",
              "      <th>0</th>\n",
              "      <td>1</td>\n",
              "      <td>0</td>\n",
              "      <td>0</td>\n",
              "    </tr>\n",
              "    <tr>\n",
              "      <th>1</th>\n",
              "      <td>1</td>\n",
              "      <td>0</td>\n",
              "      <td>0</td>\n",
              "    </tr>\n",
              "    <tr>\n",
              "      <th>2</th>\n",
              "      <td>0</td>\n",
              "      <td>0</td>\n",
              "      <td>1</td>\n",
              "    </tr>\n",
              "  </tbody>\n",
              "</table>\n",
              "</div>"
            ],
            "text/plain": [
              "   chuva  nublado  sol\n",
              "0      1        0    0\n",
              "1      1        0    0\n",
              "2      0        0    1"
            ]
          },
          "metadata": {
            "tags": []
          },
          "execution_count": 165
        }
      ]
    },
    {
      "cell_type": "code",
      "metadata": {
        "colab": {
          "base_uri": "https://localhost:8080/",
          "height": 141
        },
        "id": "5s0LxImp8l6E",
        "outputId": "22fd44af-dd1d-40fc-d89c-52a8fa2938d6"
      },
      "source": [
        "dummies = pd.get_dummies(inputs.Temperatura)\n",
        "dummies.head(3)"
      ],
      "execution_count": 84,
      "outputs": [
        {
          "output_type": "execute_result",
          "data": {
            "text/html": [
              "<div>\n",
              "<style scoped>\n",
              "    .dataframe tbody tr th:only-of-type {\n",
              "        vertical-align: middle;\n",
              "    }\n",
              "\n",
              "    .dataframe tbody tr th {\n",
              "        vertical-align: top;\n",
              "    }\n",
              "\n",
              "    .dataframe thead th {\n",
              "        text-align: right;\n",
              "    }\n",
              "</style>\n",
              "<table border=\"1\" class=\"dataframe\">\n",
              "  <thead>\n",
              "    <tr style=\"text-align: right;\">\n",
              "      <th></th>\n",
              "      <th>frio</th>\n",
              "      <th>moderado</th>\n",
              "      <th>quente</th>\n",
              "    </tr>\n",
              "  </thead>\n",
              "  <tbody>\n",
              "    <tr>\n",
              "      <th>0</th>\n",
              "      <td>1</td>\n",
              "      <td>0</td>\n",
              "      <td>0</td>\n",
              "    </tr>\n",
              "    <tr>\n",
              "      <th>1</th>\n",
              "      <td>0</td>\n",
              "      <td>1</td>\n",
              "      <td>0</td>\n",
              "    </tr>\n",
              "    <tr>\n",
              "      <th>2</th>\n",
              "      <td>0</td>\n",
              "      <td>0</td>\n",
              "      <td>1</td>\n",
              "    </tr>\n",
              "  </tbody>\n",
              "</table>\n",
              "</div>"
            ],
            "text/plain": [
              "   frio  moderado  quente\n",
              "0     1         0       0\n",
              "1     0         1       0\n",
              "2     0         0       1"
            ]
          },
          "metadata": {
            "tags": []
          },
          "execution_count": 84
        }
      ]
    },
    {
      "cell_type": "code",
      "metadata": {
        "colab": {
          "base_uri": "https://localhost:8080/",
          "height": 141
        },
        "id": "TxK8c4WJ8qes",
        "outputId": "a5d6defb-26ce-41e6-ee98-528e28650657"
      },
      "source": [
        "dummies = pd.get_dummies(inputs.Umidade)\n",
        "dummies.head(3)"
      ],
      "execution_count": 85,
      "outputs": [
        {
          "output_type": "execute_result",
          "data": {
            "text/html": [
              "<div>\n",
              "<style scoped>\n",
              "    .dataframe tbody tr th:only-of-type {\n",
              "        vertical-align: middle;\n",
              "    }\n",
              "\n",
              "    .dataframe tbody tr th {\n",
              "        vertical-align: top;\n",
              "    }\n",
              "\n",
              "    .dataframe thead th {\n",
              "        text-align: right;\n",
              "    }\n",
              "</style>\n",
              "<table border=\"1\" class=\"dataframe\">\n",
              "  <thead>\n",
              "    <tr style=\"text-align: right;\">\n",
              "      <th></th>\n",
              "      <th>alta</th>\n",
              "      <th>normal</th>\n",
              "    </tr>\n",
              "  </thead>\n",
              "  <tbody>\n",
              "    <tr>\n",
              "      <th>0</th>\n",
              "      <td>0</td>\n",
              "      <td>1</td>\n",
              "    </tr>\n",
              "    <tr>\n",
              "      <th>1</th>\n",
              "      <td>1</td>\n",
              "      <td>0</td>\n",
              "    </tr>\n",
              "    <tr>\n",
              "      <th>2</th>\n",
              "      <td>1</td>\n",
              "      <td>0</td>\n",
              "    </tr>\n",
              "  </tbody>\n",
              "</table>\n",
              "</div>"
            ],
            "text/plain": [
              "   alta  normal\n",
              "0     0       1\n",
              "1     1       0\n",
              "2     1       0"
            ]
          },
          "metadata": {
            "tags": []
          },
          "execution_count": 85
        }
      ]
    },
    {
      "cell_type": "code",
      "metadata": {
        "colab": {
          "base_uri": "https://localhost:8080/",
          "height": 141
        },
        "id": "UkyGKd5q80fU",
        "outputId": "0fcacbb8-4fa6-4685-e67b-52283f5f7c21"
      },
      "source": [
        "dummies = pd.get_dummies(inputs.Vento)\n",
        "dummies.head(3)"
      ],
      "execution_count": 86,
      "outputs": [
        {
          "output_type": "execute_result",
          "data": {
            "text/html": [
              "<div>\n",
              "<style scoped>\n",
              "    .dataframe tbody tr th:only-of-type {\n",
              "        vertical-align: middle;\n",
              "    }\n",
              "\n",
              "    .dataframe tbody tr th {\n",
              "        vertical-align: top;\n",
              "    }\n",
              "\n",
              "    .dataframe thead th {\n",
              "        text-align: right;\n",
              "    }\n",
              "</style>\n",
              "<table border=\"1\" class=\"dataframe\">\n",
              "  <thead>\n",
              "    <tr style=\"text-align: right;\">\n",
              "      <th></th>\n",
              "      <th>não</th>\n",
              "      <th>sim</th>\n",
              "    </tr>\n",
              "  </thead>\n",
              "  <tbody>\n",
              "    <tr>\n",
              "      <th>0</th>\n",
              "      <td>0</td>\n",
              "      <td>1</td>\n",
              "    </tr>\n",
              "    <tr>\n",
              "      <th>1</th>\n",
              "      <td>0</td>\n",
              "      <td>1</td>\n",
              "    </tr>\n",
              "    <tr>\n",
              "      <th>2</th>\n",
              "      <td>1</td>\n",
              "      <td>0</td>\n",
              "    </tr>\n",
              "  </tbody>\n",
              "</table>\n",
              "</div>"
            ],
            "text/plain": [
              "   não  sim\n",
              "0    0    1\n",
              "1    0    1\n",
              "2    1    0"
            ]
          },
          "metadata": {
            "tags": []
          },
          "execution_count": 86
        }
      ]
    },
    {
      "cell_type": "code",
      "metadata": {
        "colab": {
          "base_uri": "https://localhost:8080/",
          "height": 141
        },
        "id": "a4GQTh2J9-37",
        "outputId": "3e1714cf-6e61-4dc8-8654-11f3b68f266c"
      },
      "source": [
        "inputs = pd.concat([inputs, dummies], axis = 'columns')\n",
        "inputs.head(3)"
      ],
      "execution_count": 87,
      "outputs": [
        {
          "output_type": "execute_result",
          "data": {
            "text/html": [
              "<div>\n",
              "<style scoped>\n",
              "    .dataframe tbody tr th:only-of-type {\n",
              "        vertical-align: middle;\n",
              "    }\n",
              "\n",
              "    .dataframe tbody tr th {\n",
              "        vertical-align: top;\n",
              "    }\n",
              "\n",
              "    .dataframe thead th {\n",
              "        text-align: right;\n",
              "    }\n",
              "</style>\n",
              "<table border=\"1\" class=\"dataframe\">\n",
              "  <thead>\n",
              "    <tr style=\"text-align: right;\">\n",
              "      <th></th>\n",
              "      <th>Previsao</th>\n",
              "      <th>Temperatura</th>\n",
              "      <th>Umidade</th>\n",
              "      <th>Vento</th>\n",
              "      <th>não</th>\n",
              "      <th>sim</th>\n",
              "    </tr>\n",
              "  </thead>\n",
              "  <tbody>\n",
              "    <tr>\n",
              "      <th>0</th>\n",
              "      <td>chuva</td>\n",
              "      <td>frio</td>\n",
              "      <td>normal</td>\n",
              "      <td>sim</td>\n",
              "      <td>0</td>\n",
              "      <td>1</td>\n",
              "    </tr>\n",
              "    <tr>\n",
              "      <th>1</th>\n",
              "      <td>chuva</td>\n",
              "      <td>moderado</td>\n",
              "      <td>alta</td>\n",
              "      <td>sim</td>\n",
              "      <td>0</td>\n",
              "      <td>1</td>\n",
              "    </tr>\n",
              "    <tr>\n",
              "      <th>2</th>\n",
              "      <td>sol</td>\n",
              "      <td>quente</td>\n",
              "      <td>alta</td>\n",
              "      <td>não</td>\n",
              "      <td>1</td>\n",
              "      <td>0</td>\n",
              "    </tr>\n",
              "  </tbody>\n",
              "</table>\n",
              "</div>"
            ],
            "text/plain": [
              "  Previsao Temperatura Umidade Vento  não  sim\n",
              "0    chuva        frio  normal   sim    0    1\n",
              "1    chuva    moderado    alta   sim    0    1\n",
              "2      sol      quente    alta   não    1    0"
            ]
          },
          "metadata": {
            "tags": []
          },
          "execution_count": 87
        }
      ]
    },
    {
      "cell_type": "code",
      "metadata": {
        "colab": {
          "base_uri": "https://localhost:8080/"
        },
        "id": "931AmmFlwhh8",
        "outputId": "b7462c4f-907c-4e29-c3b7-1fbeaff08331"
      },
      "source": [
        "x_teste_restaurante = df.iloc[:, 0:4].values\n",
        "x_teste_restaurante"
      ],
      "execution_count": 88,
      "outputs": [
        {
          "output_type": "execute_result",
          "data": {
            "text/plain": [
              "array([['chuva', 'frio', 'normal', 'sim'],\n",
              "       ['chuva', 'moderado', 'alta', 'sim'],\n",
              "       ['sol', 'quente', 'alta', 'não'],\n",
              "       ['sol', 'quente', 'alta', 'sim'],\n",
              "       ['sol', 'moderado', 'alta', 'não'],\n",
              "       ['nublado', 'frio', 'normal', 'sim'],\n",
              "       ['nublado', 'quente', 'alta', 'não'],\n",
              "       ['nublado', 'quente', 'normal', 'não'],\n",
              "       ['nublado', 'moderado', 'alta', 'sim'],\n",
              "       ['chuva', 'frio', 'normal', 'não'],\n",
              "       ['chuva', 'moderado', 'alta', 'não'],\n",
              "       ['chuva', 'moderado', 'normal', 'não'],\n",
              "       ['sol', 'frio', 'normal', 'não'],\n",
              "       ['sol', 'moderado', 'normal', 'sim']], dtype=object)"
            ]
          },
          "metadata": {
            "tags": []
          },
          "execution_count": 88
        }
      ]
    },
    {
      "cell_type": "code",
      "metadata": {
        "id": "t0EXq9twOten"
      },
      "source": [
        ""
      ],
      "execution_count": null,
      "outputs": []
    },
    {
      "cell_type": "code",
      "metadata": {
        "colab": {
          "base_uri": "https://localhost:8080/"
        },
        "id": "isoIkc9GBCQU",
        "outputId": "9dabaf92-8755-4435-9278-d03f5a2e2847"
      },
      "source": [
        "y_teste_restaurante = df.iloc[:, 4].values\n",
        "y_teste_restaurante"
      ],
      "execution_count": 89,
      "outputs": [
        {
          "output_type": "execute_result",
          "data": {
            "text/plain": [
              "array(['parmegiana', 'parmegiana', 'parmegiana', 'parmegiana',\n",
              "       'parmegiana', 'feijoada', 'feijoada', 'feijoada', 'feijoada',\n",
              "       'feijoada', 'feijoada', 'feijoada', 'feijoada', 'feijoada'],\n",
              "      dtype=object)"
            ]
          },
          "metadata": {
            "tags": []
          },
          "execution_count": 89
        }
      ]
    },
    {
      "cell_type": "code",
      "metadata": {
        "id": "PUgipcawBe2b"
      },
      "source": [
        "from sklearn.preprocessing import LabelEncoder\n",
        "label_encoder_Previsao = LabelEncoder()\n",
        "label_encoder_Temperatura = LabelEncoder()\n",
        "label_encoder_Umidade = LabelEncoder()\n",
        "label_encoder_Vento = LabelEncoder()\n"
      ],
      "execution_count": 90,
      "outputs": []
    },
    {
      "cell_type": "code",
      "metadata": {
        "id": "8liHcKB0EB96"
      },
      "source": [
        "x_teste_restaurante[:,0] = label_encoder_Previsao.fit_transform(x_teste_restaurante[:,0])\n",
        "x_teste_restaurante[:,1] = label_encoder_Temperatura.fit_transform(x_teste_restaurante[:,1])\n",
        "x_teste_restaurante[:,2] = label_encoder_Umidade.fit_transform(x_teste_restaurante[:,2])\n",
        "x_teste_restaurante[:,3] = label_encoder_Vento.fit_transform(x_teste_restaurante[:,3])\n",
        "\n",
        "\n",
        "\n"
      ],
      "execution_count": 91,
      "outputs": []
    },
    {
      "cell_type": "code",
      "metadata": {
        "colab": {
          "base_uri": "https://localhost:8080/"
        },
        "id": "EpIwqbcAFv-H",
        "outputId": "d03500bf-7e1e-499f-a8ea-5af73f0362f5"
      },
      "source": [
        "x_teste_restaurante"
      ],
      "execution_count": 92,
      "outputs": [
        {
          "output_type": "execute_result",
          "data": {
            "text/plain": [
              "array([[0, 0, 1, 1],\n",
              "       [0, 1, 0, 1],\n",
              "       [2, 2, 0, 0],\n",
              "       [2, 2, 0, 1],\n",
              "       [2, 1, 0, 0],\n",
              "       [1, 0, 1, 1],\n",
              "       [1, 2, 0, 0],\n",
              "       [1, 2, 1, 0],\n",
              "       [1, 1, 0, 1],\n",
              "       [0, 0, 1, 0],\n",
              "       [0, 1, 0, 0],\n",
              "       [0, 1, 1, 0],\n",
              "       [2, 0, 1, 0],\n",
              "       [2, 1, 1, 1]], dtype=object)"
            ]
          },
          "metadata": {
            "tags": []
          },
          "execution_count": 92
        }
      ]
    },
    {
      "cell_type": "code",
      "metadata": {
        "id": "SqnPi2BlBKwq",
        "colab": {
          "base_uri": "https://localhost:8080/"
        },
        "outputId": "419aa041-4785-4147-89d1-537fb5359724"
      },
      "source": [
        "naive_teste_restaurante = GaussianNB()\n",
        "naive_teste_restaurante.fit(x_teste_restaurante, y_teste_restaurante)"
      ],
      "execution_count": 109,
      "outputs": [
        {
          "output_type": "execute_result",
          "data": {
            "text/plain": [
              "GaussianNB(priors=None, var_smoothing=1e-09)"
            ]
          },
          "metadata": {
            "tags": []
          },
          "execution_count": 109
        }
      ]
    },
    {
      "cell_type": "code",
      "metadata": {
        "id": "r_wJAgb48R0O"
      },
      "source": [
        "#Previsao_Sol(2), Temperatura_Frio(0), Umidade_Normal(1), Vento_Sim(1)\n",
        "\n",
        "PrevisaoDeVenda = naive_teste_restaurante.predict([[2,0,1,1]])\n",
        "\n"
      ],
      "execution_count": 195,
      "outputs": []
    },
    {
      "cell_type": "code",
      "metadata": {
        "colab": {
          "base_uri": "https://localhost:8080/"
        },
        "id": "joaPSPXe_e0T",
        "outputId": "a55b740f-1c8e-4a28-c03d-5fdedd3f28a5"
      },
      "source": [
        "PrevisaoDeVenda"
      ],
      "execution_count": 196,
      "outputs": [
        {
          "output_type": "execute_result",
          "data": {
            "text/plain": [
              "array(['feijoada'], dtype='<U10')"
            ]
          },
          "metadata": {
            "tags": []
          },
          "execution_count": 196
        }
      ]
    },
    {
      "cell_type": "code",
      "metadata": {
        "colab": {
          "base_uri": "https://localhost:8080/"
        },
        "id": "CMLU0oprH_P8",
        "outputId": "67df3790-fd2f-4072-ddb8-2411a81c0792"
      },
      "source": [
        "naive_teste_restaurante.classes_"
      ],
      "execution_count": 125,
      "outputs": [
        {
          "output_type": "execute_result",
          "data": {
            "text/plain": [
              "array(['feijoada', 'parmegiana'], dtype='<U10')"
            ]
          },
          "metadata": {
            "tags": []
          },
          "execution_count": 125
        }
      ]
    },
    {
      "cell_type": "code",
      "metadata": {
        "colab": {
          "base_uri": "https://localhost:8080/"
        },
        "id": "y2gP3yWzITKA",
        "outputId": "f2e2d7ff-35fb-443b-d1ce-93e3b789539c"
      },
      "source": [
        "naive_teste_restaurante.class_count_"
      ],
      "execution_count": 126,
      "outputs": [
        {
          "output_type": "execute_result",
          "data": {
            "text/plain": [
              "array([9., 5.])"
            ]
          },
          "metadata": {
            "tags": []
          },
          "execution_count": 126
        }
      ]
    },
    {
      "cell_type": "code",
      "metadata": {
        "colab": {
          "base_uri": "https://localhost:8080/"
        },
        "id": "bfcKsXtyIZNr",
        "outputId": "acd9bfa9-5992-4a75-bc94-f91daff14b9e"
      },
      "source": [
        "((naive_teste_restaurante.class_prior_)*100)\n"
      ],
      "execution_count": 188,
      "outputs": [
        {
          "output_type": "execute_result",
          "data": {
            "text/plain": [
              "array([64.28571429, 35.71428571])"
            ]
          },
          "metadata": {
            "tags": []
          },
          "execution_count": 188
        }
      ]
    }
  ]
}